{
 "cells": [
  {
   "cell_type": "markdown",
   "metadata": {},
   "source": [
    "# Support Vector Regression"
   ]
  },
  {
   "cell_type": "markdown",
   "metadata": {
    "collapsed": true
   },
   "source": [
    "### Create training data\n",
    "* Seperate data by cluster\n",
    "* Create training data by taking 80% of observations\n",
    "* Transform pandas dataframe to numpy array\n",
    "* Separate labels and features for each cluster"
   ]
  },
  {
   "cell_type": "code",
   "execution_count": 81,
   "metadata": {
    "collapsed": false
   },
   "outputs": [],
   "source": [
    "import pandas as pd\n",
    "import numpy as np\n",
    "from sklearn.cross_validation import train_test_split\n",
    "\n",
    "cluster0 = pd.read_csv('Cluster_Results.csv')\n",
    "del cluster0['date']\n",
    "cluster0 = cluster0[cluster0['cluster'] != 1]\n",
    "cluster0 = cluster0[cluster0['cluster'] != 2]\n",
    "cluster0 = cluster0[cluster0['cluster'] != 3]\n",
    "cluster0 = cluster0[cluster0['cluster'] != 4]\n",
    "del cluster0['cluster']\n",
    "cluster0_train, cluster0_test = train_test_split(cluster0, test_size = 0.2)\n",
    "cluster0_train = cluster0_train.as_matrix()\n",
    "cluster0_train_features = cluster0_train[0::,1::]\n",
    "cluster0_train_labels = cluster0_train[0::,0]\n",
    "cluster0_test = cluster0_test.as_matrix()\n",
    "cluster0_test_features = cluster0_test[0::,1::]\n",
    "cluster0_test_labels = cluster0_test[0::,0]\n",
    "\n",
    "cluster1 = pd.read_csv('Cluster_Results.csv')\n",
    "del cluster1['date']\n",
    "cluster1 = cluster1[cluster1['cluster'] != 0]\n",
    "cluster1 = cluster1[cluster1['cluster'] != 2]\n",
    "cluster1 = cluster1[cluster1['cluster'] != 3]\n",
    "cluster1 = cluster1[cluster1['cluster'] != 4]\n",
    "del cluster1['cluster']\n",
    "cluster1_train, cluster1_test = train_test_split(cluster1, test_size = 0.2)\n",
    "cluster1_train = cluster1_train.as_matrix()\n",
    "cluster1_train_features = cluster1_train[0::,1::]\n",
    "cluster1_train_labels = cluster1_train[0::,0]\n",
    "cluster1_test = cluster1_test.as_matrix()\n",
    "cluster1_test_features = cluster1_test[0::,1::]\n",
    "cluster1_test_labels = cluster1_test[0::,0]\n",
    "\n",
    "cluster2 = pd.read_csv('Cluster_Results.csv')\n",
    "del cluster2['date']\n",
    "cluster2 = cluster2[cluster2['cluster'] != 0]\n",
    "cluster2 = cluster2[cluster2['cluster'] != 1]\n",
    "cluster2 = cluster2[cluster2['cluster'] != 3]\n",
    "cluster2 = cluster2[cluster2['cluster'] != 4]\n",
    "del cluster2['cluster']\n",
    "cluster2_train, cluster2_test = train_test_split(cluster2, test_size = 0.2)\n",
    "cluster2_train = cluster2_train.as_matrix()\n",
    "cluster2_train_features = cluster2_train[0::,1::]\n",
    "cluster2_train_labels = cluster2_train[0::,0]\n",
    "cluster2_test = cluster2_test.as_matrix()\n",
    "cluster2_test_features = cluster2_test[0::,1::]\n",
    "cluster2_test_labels = cluster2_test[0::,0]\n",
    "\n",
    "cluster3 = pd.read_csv('Cluster_Results.csv')\n",
    "del cluster3['date']\n",
    "cluster3 = cluster3[cluster3['cluster'] != 0]\n",
    "cluster3 = cluster3[cluster3['cluster'] != 1]\n",
    "cluster3 = cluster3[cluster3['cluster'] != 2]\n",
    "cluster3 = cluster3[cluster3['cluster'] != 4]\n",
    "del cluster3['cluster']\n",
    "cluster3_train, cluster3_test = train_test_split(cluster3, test_size = 0.2)\n",
    "cluster3_train = cluster3_train.as_matrix()\n",
    "cluster3_train_features = cluster3_train[0::,1::]\n",
    "cluster3_train_labels = cluster3_train[0::,0]\n",
    "cluster3_test = cluster3_test.as_matrix()\n",
    "cluster3_test_features = cluster3_test[0::,1::]\n",
    "cluster3_test_labels = cluster3_test[0::,0]\n",
    "\n",
    "cluster4 = pd.read_csv('Cluster_Results.csv')\n",
    "del cluster4['date']\n",
    "cluster4 = cluster4[cluster4['cluster'] != 0]\n",
    "cluster4 = cluster4[cluster4['cluster'] != 1]\n",
    "cluster4 = cluster4[cluster4['cluster'] != 2]\n",
    "cluster4 = cluster4[cluster4['cluster'] != 3]\n",
    "del cluster4['cluster']\n",
    "cluster4_train, cluster4_test = train_test_split(cluster4, test_size = 0.2)\n",
    "cluster4_train = cluster4_train.as_matrix()\n",
    "cluster4_train_features = cluster4_train[0::,1::]\n",
    "cluster4_train_labels = cluster4_train[0::,0]\n",
    "cluster4_test = cluster4_test.as_matrix()\n",
    "cluster4_test_features = cluster4_test[0::,1::]\n",
    "cluster4_test_labels = cluster4_test[0::,0]"
   ]
  },
  {
   "cell_type": "markdown",
   "metadata": {},
   "source": [
    "### Perform Support Vector Regression\n",
    "* Create SVR classifer\n",
    "* Fit SVR model using training data for each cluster\n",
    "* Find predicted values using SVR model for each cluster"
   ]
  },
  {
   "cell_type": "code",
   "execution_count": 82,
   "metadata": {
    "collapsed": false
   },
   "outputs": [],
   "source": [
    "from sklearn.svm import SVR\n",
    "import numpy as np\n",
    "\n",
    "SVR = SVR(C=2, epsilon=1)\n",
    "SVR_cluster0 = SVR.fit(cluster0_train_features,cluster0_train_labels)\n",
    "SVR_cluster0_pred = SVR.predict(cluster0_test_features)\n",
    "\n",
    "SVR_cluster1 = SVR.fit(cluster1_train_features,cluster1_train_labels)\n",
    "SVR_cluster1_pred = SVR.predict(cluster1_test_features)\n",
    "\n",
    "SVR_cluster2 = SVR.fit(cluster2_train_features,cluster2_train_labels)\n",
    "SVR_cluster2_pred = SVR.predict(cluster2_test_features)\n",
    "\n",
    "SVR_cluster3 = SVR.fit(cluster3_train_features,cluster3_train_labels)\n",
    "SVR_cluster3_pred = SVR.predict(cluster3_test_features)\n",
    "\n",
    "SVR_cluster4 = SVR.fit(cluster4_train_features,cluster4_train_labels)\n",
    "SVR_cluster4_pred = SVR.predict(cluster4_test_features)"
   ]
  },
  {
   "cell_type": "markdown",
   "metadata": {},
   "source": [
    "### Check accuracy of predicted travel times\n",
    "* Create plot of predicted values versus actual values for each cluster\n",
    "* Find sum of the square of errors for each cluster"
   ]
  },
  {
   "cell_type": "code",
   "execution_count": 83,
   "metadata": {
    "collapsed": false
   },
   "outputs": [
    {
     "data": {
      "text/html": [
       "<iframe id=\"igraph\" scrolling=\"no\" style=\"border:none;\"seamless=\"seamless\" src=\"https://plot.ly/~dfay88/383.embed\" height=\"525px\" width=\"100%\"></iframe>"
      ],
      "text/plain": [
       "<plotly.tools.PlotlyDisplay object>"
      ]
     },
     "execution_count": 83,
     "metadata": {},
     "output_type": "execute_result"
    }
   ],
   "source": [
    "import plotly.plotly as py\n",
    "import plotly.graph_objs as go\n",
    "\n",
    "# Create a trace\n",
    "trace = go.Scatter(\n",
    "    x = SVR_cluster0_pred,\n",
    "    y = cluster0_test_labels,\n",
    "    mode = 'markers',\n",
    "    name = 'Data Points'\n",
    ")\n",
    "trace1 = go.Scatter(\n",
    "    x = [14,19],\n",
    "    y = [16,16],\n",
    "    mode = 'lines',\n",
    "    name = 'MBTA Scheduled Trip Time'\n",
    ")\n",
    "\n",
    "data = [trace,trace1]\n",
    "\n",
    "layout = go.Layout(\n",
    "    title='Predicted vs. Actual Trip Time Cluster 0',\n",
    "    hovermode='closest',\n",
    "    xaxis=dict(\n",
    "        title='Predicted Values',\n",
    "        gridwidth=2,\n",
    "    ),\n",
    "    yaxis=dict(\n",
    "        title='Actual Values',\n",
    "        gridwidth=2,\n",
    "    ),\n",
    ")\n",
    "fig = go.Figure(data=data, layout=layout)\n",
    "py.iplot(fig, filename='Predicted vs. Actual')"
   ]
  },
  {
   "cell_type": "code",
   "execution_count": 84,
   "metadata": {
    "collapsed": false
   },
   "outputs": [
    {
     "data": {
      "text/plain": [
       "2.2852812211910196"
      ]
     },
     "execution_count": 84,
     "metadata": {},
     "output_type": "execute_result"
    }
   ],
   "source": [
    "from sklearn.metrics import mean_squared_error\n",
    "mean_squared_error(cluster0_test_labels, SVR_cluster0_pred)**0.5"
   ]
  },
  {
   "cell_type": "code",
   "execution_count": 85,
   "metadata": {
    "collapsed": false
   },
   "outputs": [
    {
     "data": {
      "text/html": [
       "<iframe id=\"igraph\" scrolling=\"no\" style=\"border:none;\"seamless=\"seamless\" src=\"https://plot.ly/~dfay88/383.embed\" height=\"525px\" width=\"100%\"></iframe>"
      ],
      "text/plain": [
       "<plotly.tools.PlotlyDisplay object>"
      ]
     },
     "execution_count": 85,
     "metadata": {},
     "output_type": "execute_result"
    }
   ],
   "source": [
    "# Create a trace\n",
    "trace = go.Scatter(\n",
    "    x = SVR_cluster1_pred,\n",
    "    y = cluster1_test_labels,\n",
    "    mode = 'markers',\n",
    "    name = 'Data Points'\n",
    ")\n",
    "trace1 = go.Scatter(\n",
    "    x = [14,19],\n",
    "    y = [17,17],\n",
    "    mode = 'lines',\n",
    "    name = 'MBTA Scheduled Trip Time'\n",
    ")\n",
    "data = [trace,trace1]\n",
    "\n",
    "layout = go.Layout(\n",
    "    title='Predicted vs. Actual Trip Time Cluster 1',\n",
    "    hovermode='closest',\n",
    "    xaxis=dict(\n",
    "        title='Predicted Values',\n",
    "        gridwidth=2,\n",
    "    ),\n",
    "    yaxis=dict(\n",
    "        title='Actual Values',\n",
    "        gridwidth=2,\n",
    "    ),\n",
    ")\n",
    "fig = go.Figure(data=data, layout=layout)\n",
    "py.iplot(fig, filename='Predicted vs. Actual')"
   ]
  },
  {
   "cell_type": "code",
   "execution_count": 86,
   "metadata": {
    "collapsed": false
   },
   "outputs": [
    {
     "data": {
      "text/plain": [
       "2.7686043557039364"
      ]
     },
     "execution_count": 86,
     "metadata": {},
     "output_type": "execute_result"
    }
   ],
   "source": [
    "from sklearn.metrics import mean_squared_error\n",
    "mean_squared_error(cluster1_test_labels, SVR_cluster1_pred)**0.5"
   ]
  },
  {
   "cell_type": "code",
   "execution_count": 90,
   "metadata": {
    "collapsed": false
   },
   "outputs": [
    {
     "data": {
      "text/html": [
       "<iframe id=\"igraph\" scrolling=\"no\" style=\"border:none;\"seamless=\"seamless\" src=\"https://plot.ly/~dfay88/383.embed\" height=\"525px\" width=\"100%\"></iframe>"
      ],
      "text/plain": [
       "<plotly.tools.PlotlyDisplay object>"
      ]
     },
     "execution_count": 90,
     "metadata": {},
     "output_type": "execute_result"
    }
   ],
   "source": [
    "# Create a trace\n",
    "trace = go.Scatter(\n",
    "    x = SVR_cluster2_pred,\n",
    "    y = cluster2_test_labels,\n",
    "    mode = 'markers',\n",
    "    name = 'Data Points'\n",
    ")\n",
    "trace1 = go.Scatter(\n",
    "    x = [10,19],\n",
    "    y = [16,16],\n",
    "    mode = 'lines',\n",
    "    name = 'MBTA Scheduled Trip Time'\n",
    ")\n",
    "data = [trace,trace1]\n",
    "\n",
    "layout = go.Layout(\n",
    "    title='Predicted vs. Actual Trip Time Cluster 2',\n",
    "    hovermode='closest',\n",
    "    xaxis=dict(\n",
    "        title='Predicted Values',\n",
    "        gridwidth=2,\n",
    "    ),\n",
    "    yaxis=dict(\n",
    "        title='Actual Values',\n",
    "        gridwidth=2,\n",
    "    ),\n",
    ")\n",
    "fig = go.Figure(data=data, layout=layout)\n",
    "py.iplot(fig, filename='Predicted vs. Actual')"
   ]
  },
  {
   "cell_type": "code",
   "execution_count": 91,
   "metadata": {
    "collapsed": false
   },
   "outputs": [
    {
     "data": {
      "text/plain": [
       "4.5006916917901476"
      ]
     },
     "execution_count": 91,
     "metadata": {},
     "output_type": "execute_result"
    }
   ],
   "source": [
    "from sklearn.metrics import mean_squared_error\n",
    "mean_squared_error(cluster2_test_labels, SVR_cluster2_pred)**0.5"
   ]
  },
  {
   "cell_type": "code",
   "execution_count": 94,
   "metadata": {
    "collapsed": false
   },
   "outputs": [
    {
     "data": {
      "text/html": [
       "<iframe id=\"igraph\" scrolling=\"no\" style=\"border:none;\"seamless=\"seamless\" src=\"https://plot.ly/~dfay88/383.embed\" height=\"525px\" width=\"100%\"></iframe>"
      ],
      "text/plain": [
       "<plotly.tools.PlotlyDisplay object>"
      ]
     },
     "execution_count": 94,
     "metadata": {},
     "output_type": "execute_result"
    }
   ],
   "source": [
    "# Create a trace\n",
    "trace = go.Scatter(\n",
    "    x = SVR_cluster3_pred,\n",
    "    y = cluster3_test_labels,\n",
    "    mode = 'markers',\n",
    "    name = 'Data Points'\n",
    ")\n",
    "trace1 = go.Scatter(\n",
    "    x = [10.5,12],\n",
    "    y = [10,10],\n",
    "    mode = 'lines',\n",
    "    name = 'MBTA Scheduled Trip Time'\n",
    ")\n",
    "data = [trace,trace1]\n",
    "\n",
    "layout = go.Layout(\n",
    "    title='Predicted vs. Actual Trip Time Cluster 3',\n",
    "    hovermode='closest',\n",
    "    xaxis=dict(\n",
    "        title='Predicted Values',\n",
    "        gridwidth=2,\n",
    "    ),\n",
    "    yaxis=dict(\n",
    "        title='Actual Values',\n",
    "        gridwidth=2,\n",
    "    ),\n",
    ")\n",
    "fig = go.Figure(data=data, layout=layout)\n",
    "py.iplot(fig, filename='Predicted vs. Actual')"
   ]
  },
  {
   "cell_type": "code",
   "execution_count": 95,
   "metadata": {
    "collapsed": false
   },
   "outputs": [
    {
     "data": {
      "text/plain": [
       "2.8419173853764499"
      ]
     },
     "execution_count": 95,
     "metadata": {},
     "output_type": "execute_result"
    }
   ],
   "source": [
    "from sklearn.metrics import mean_squared_error\n",
    "mean_squared_error(cluster3_test_labels, SVR_cluster3_pred)**0.5"
   ]
  },
  {
   "cell_type": "code",
   "execution_count": 98,
   "metadata": {
    "collapsed": false
   },
   "outputs": [
    {
     "data": {
      "text/html": [
       "<iframe id=\"igraph\" scrolling=\"no\" style=\"border:none;\"seamless=\"seamless\" src=\"https://plot.ly/~dfay88/383.embed\" height=\"525px\" width=\"100%\"></iframe>"
      ],
      "text/plain": [
       "<plotly.tools.PlotlyDisplay object>"
      ]
     },
     "execution_count": 98,
     "metadata": {},
     "output_type": "execute_result"
    }
   ],
   "source": [
    "# Create a trace\n",
    "trace = go.Scatter(\n",
    "    x = SVR_cluster4_pred,\n",
    "    y = cluster4_test_labels,\n",
    "    mode = 'markers',\n",
    "    name = 'Data Points'\n",
    ")\n",
    "trace1 = go.Scatter(\n",
    "    x = [10,16],\n",
    "    y = [15,15],\n",
    "    mode = 'lines',\n",
    "    name = 'MBTA Scheduled Trip Time'\n",
    ")\n",
    "data = [trace,trace1]\n",
    "\n",
    "layout = go.Layout(\n",
    "    title='Predicted vs. Actual Trip Time Cluster 4',\n",
    "    hovermode='closest',\n",
    "    xaxis=dict(\n",
    "        title='Predicted Values',\n",
    "        gridwidth=2,\n",
    "    ),\n",
    "    yaxis=dict(\n",
    "        title='Actual Values',\n",
    "        gridwidth=2,\n",
    "    ),\n",
    ")\n",
    "fig = go.Figure(data=data, layout=layout)\n",
    "py.iplot(fig, filename='Predicted vs. Actual')"
   ]
  },
  {
   "cell_type": "code",
   "execution_count": 99,
   "metadata": {
    "collapsed": false
   },
   "outputs": [
    {
     "data": {
      "text/plain": [
       "2.8256436534605016"
      ]
     },
     "execution_count": 99,
     "metadata": {},
     "output_type": "execute_result"
    }
   ],
   "source": [
    "from sklearn.metrics import mean_squared_error\n",
    "mean_squared_error(cluster4_test_labels, SVR_cluster4_pred)**0.5"
   ]
  },
  {
   "cell_type": "code",
   "execution_count": null,
   "metadata": {
    "collapsed": true
   },
   "outputs": [],
   "source": []
  }
 ],
 "metadata": {
  "kernelspec": {
   "display_name": "Python 2",
   "language": "python",
   "name": "python2"
  },
  "language_info": {
   "codemirror_mode": {
    "name": "ipython",
    "version": 2
   },
   "file_extension": ".py",
   "mimetype": "text/x-python",
   "name": "python",
   "nbconvert_exporter": "python",
   "pygments_lexer": "ipython2",
   "version": "2.7.10"
  }
 },
 "nbformat": 4,
 "nbformat_minor": 0
}
